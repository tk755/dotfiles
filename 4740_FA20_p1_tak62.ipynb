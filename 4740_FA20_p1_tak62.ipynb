{
  "nbformat": 4,
  "nbformat_minor": 0,
  "metadata": {
    "colab": {
      "name": "4740_FA20_p1_tak62.ipynb",
      "provenance": [],
      "collapsed_sections": [],
      "toc_visible": true,
      "include_colab_link": true
    },
    "kernelspec": {
      "name": "python3",
      "display_name": "Python 3"
    }
  },
  "cells": [
    {
      "cell_type": "markdown",
      "metadata": {
        "id": "view-in-github",
        "colab_type": "text"
      },
      "source": [
        "<a href=\"https://colab.research.google.com/github/TusharK54/dotfiles/blob/master/4740_FA20_p1_tak62.ipynb\" target=\"_parent\"><img src=\"https://colab.research.google.com/assets/colab-badge.svg\" alt=\"Open In Colab\"/></a>"
      ]
    },
    {
      "cell_type": "markdown",
      "metadata": {
        "id": "tMR2in3Elmb0"
      },
      "source": [
        "# Project 1: Language Modeling and Fake News Classification"
      ]
    },
    {
      "cell_type": "markdown",
      "metadata": {
        "id": "Nw061uMf-vyu"
      },
      "source": [
        "Name: Tushar Khan\n",
        "\n",
        "Netid: tak62\n",
        "\n",
        "**After you make your own copy, please rename this notebook by clicking on it's name in the upper left corner.** It should be named: 4740_FA20_p1_netid1_netid2\n",
        "\n",
        "Don't forget to share your newly copied notebook with your partner!"
      ]
    },
    {
      "cell_type": "markdown",
      "metadata": {
        "id": "9e1Dnqk6GmdH"
      },
      "source": [
        "**Reminder: both of you can't work in this notebook at the same time from different computers/browser windows because of sync issues. We even suggest to close the tab with this notebook when you are not working on it so your partner doesn't get sync issues.**"
      ]
    },
    {
      "cell_type": "markdown",
      "metadata": {
        "id": "yVNUIk8d-oBn"
      },
      "source": [
        "## Introduction\n",
        "In this project we will build an **n-gram-based language model** for fake news classification. We will also investigate a feature-based **Naive Bayes model**. The task we are faced with is to **decide whether a news article is fake or real**. While some fake articles are so absurd and nonsensical that one can clearly guess they are fake, most fake news is actually quite hard to detect. [Various studies](https://pacscenter.stanford.edu/research/program-on-democracy-and-the-internet/deception-detection-accuracy-for-fake-news-headlines-on-social-media/) have shown that most people can have an error rate up to 50% depending on the theme of the article. \n",
        "\n",
        "To help us approach this problem, we will use NLP techniques covered thus far to frame this as a (supervised) binary classification task, where each article will have a label $y \\in \\{0,1\\}$, where *0 indicates a fake article* and *1 indicates a real one*. You will train and validate your two different models and then run them on a test data set with hidden $y$ labels. You will then submit the results on the test data set to Kaggle to participate in our class-wide competition!\n",
        "\n",
        "The project is divided into six parts:\n",
        "1. Dataset loading and preprocessing\n",
        "2. Unsmoothed n-gram language model (LM): build the unsmoothed n-gram language model using our Fake News corpus. \n",
        "3. Smoothed n-gram language model: build a smoothed version of the model from part 2.\n",
        "4. Perplexity: compute perplexity for both the unsmoothed and smoothed model\n",
        "5. Putting everything together and submitting the first model to Kaggle\n",
        "6. Naive Bayes: build a feature-based Naive Bayes model to perform the same classification task. Compare the LM with Naive Bayes and identify the pros and cons of each.\n",
        "\n",
        "**Logistics:** You should work in **groups of 2 students**. Students in the same group will get the same grade. Thus, you should make sure that everyone in your group contributes to the project. \n",
        "- **Remember to form groups on BOTH CMS and Gradescope** or not all group members will receive grades. You can use the Teammate Search option on Piazza to find a partner for this project.\n",
        "\n",
        "**Advice:** Please complete the written parts of this notebook in a clear and informative way. This is where you get to show us that you understand not only what you are doing but also why and how you are doing it. So be clear, organized and concise; avoid vagueness and excess verbiage. Spend time\n",
        "doing error analysis for the models. This is how you understand the advantages and drawbacks of the systems you build. \n",
        "- It's also useful to think about how the theory of n-grams/Naive Bayes bridges with the real world application we are building. Think about what you expect from these models based on your current understanding, and then see if your expectation aligns with empirical results that you'll get. "
      ]
    },
    {
      "cell_type": "markdown",
      "metadata": {
        "id": "HwgqdDbTPVeA"
      },
      "source": [
        "## General Guidelines\n",
        "In this project, we provide a few code snippets or starter points in case you need them. You DO NOT need to follow the structure. \n",
        "\n",
        "If you think you have a better idea, go for it. You can ADD, MODIFY, or DELETE any code snippets given to you.\n",
        "\n",
        "**Let's do this** 🚀"
      ]
    },
    {
      "cell_type": "markdown",
      "metadata": {
        "id": "LLmJ-2h5pr6n"
      },
      "source": [
        "### Dataset\n",
        "\n",
        "You are given a **News Corpus** on CMS, which consists of roughly the same amount of real and fake news articles.\n",
        "\n",
        "Real news example:\n",
        "```\n",
        "The OpenAI technology, known as GPT-2, is designed to predict the next word given all the previous words it is shown within some text. The language-based model has been trained on a dataset of 8 million web pages.\n",
        "```\n",
        "\n",
        "Fake news example:\n",
        "```\n",
        "In a shocking finding, scientist discovered a herd of unicorns living in a remote, previously unexplored valley, in the Andes Mountains. Even more surprising to the researchers was the fact that the unicorns spoke perfect English.\n",
        "```\n",
        "\n",
        "In the dataset folder you should find 4 files, training and validation splits for both real and fake news.\n",
        "\n",
        "The project will proceed generally as follows in terms of code development:\n",
        "1. Write code to train unsmoothed unigram and bigram language models for an arbitrary corpus\n",
        "2. Implement smoothing and unknown word handling. \n",
        "3. Implement the Perplexity calculation. \n",
        "4. Using 1, 2 and 3, together with the provided training and validation sets, develop a language-model-based approach for Fake News Classification.\n",
        "5. Apply your best language-model-based news classifier (from 4) to the\n",
        "provided test set. Submit the results to the online Kaggle competition. \n",
        "6. Use any existing implementation of Naive Bayes (and the provided training and validation sets) to create an additional Naive Bayes fake news classifier. Apply your best NB classifier to the provided test set. Submit the results to the separate Kaggle competition (for NB classifiers). \n",
        "\n",
        "We will progress towards these tasks throughout this notebook."
      ]
    },
    {
      "cell_type": "markdown",
      "metadata": {
        "id": "b2O1icKLpIdF"
      },
      "source": [
        "# Part 1: Preprocessing the Dataset\n",
        "In this part, you are going to do a few things:\n",
        "* Connect to the google drive where the data set is stored\n",
        "* Load and read files\n",
        "* Preprocess the text\n",
        "\n",
        "------\n",
        "**Please upload the dataset to each partner's individual Google Drive now.** We suggest using the same folder structure within Google Drive because the notebook is shared among you, so the code to load the data would have to be changed every time if folder structures are different. One folder structure might be: Google Drive/CS 4740/Project 1/Dataset/ or whatever works for you. See our code below for an example of how we load the data from Google Drive."
      ]
    },
    {
      "cell_type": "markdown",
      "metadata": {
        "id": "zqJXHkfirHCX"
      },
      "source": [
        "## 1.1 Connect to google drive"
      ]
    },
    {
      "cell_type": "code",
      "metadata": {
        "id": "og--UAtbrP4-",
        "outputId": "daf27b25-66b6-4924-f5f4-639229999358",
        "colab": {
          "base_uri": "https://localhost:8080/",
          "height": 34
        }
      },
      "source": [
        "from google.colab import drive\n",
        "drive.mount('/content/drive', force_remount=True)"
      ],
      "execution_count": 80,
      "outputs": [
        {
          "output_type": "stream",
          "text": [
            "Mounted at /content/drive\n"
          ],
          "name": "stdout"
        }
      ]
    },
    {
      "cell_type": "markdown",
      "metadata": {
        "id": "yspKotLCr8kj"
      },
      "source": [
        "## 1.2 Load and read files\n",
        "First, let's install [NLTK](https://www.nltk.org/), a very widely package for NLP preprocessing (and other tasks) for Python."
      ]
    },
    {
      "cell_type": "code",
      "metadata": {
        "id": "HyUwo9CthoiW",
        "outputId": "32906a78-236a-44ab-d637-e7e3e20a5205",
        "colab": {
          "base_uri": "https://localhost:8080/",
          "height": 124
        }
      },
      "source": [
        "!pip install -U nltk"
      ],
      "execution_count": 81,
      "outputs": [
        {
          "output_type": "stream",
          "text": [
            "Requirement already up-to-date: nltk in /usr/local/lib/python3.6/dist-packages (3.5)\n",
            "Requirement already satisfied, skipping upgrade: click in /usr/local/lib/python3.6/dist-packages (from nltk) (7.1.2)\n",
            "Requirement already satisfied, skipping upgrade: joblib in /usr/local/lib/python3.6/dist-packages (from nltk) (0.16.0)\n",
            "Requirement already satisfied, skipping upgrade: tqdm in /usr/local/lib/python3.6/dist-packages (from nltk) (4.41.1)\n",
            "Requirement already satisfied, skipping upgrade: regex in /usr/local/lib/python3.6/dist-packages (from nltk) (2019.12.20)\n"
          ],
          "name": "stdout"
        }
      ]
    },
    {
      "cell_type": "markdown",
      "metadata": {
        "id": "UNdLcCH9hpYX"
      },
      "source": [
        "Then we read and load data."
      ]
    },
    {
      "cell_type": "code",
      "metadata": {
        "id": "CDIzMEQ0sMqK",
        "outputId": "8f14dd20-7eb5-4327-9f3a-1bf6455ae250",
        "colab": {
          "base_uri": "https://localhost:8080/",
          "height": 52
        }
      },
      "source": [
        "import os\n",
        "import io\n",
        "from nltk import word_tokenize, sent_tokenize\n",
        "import nltk\n",
        "nltk.download('punkt')\n",
        "\n",
        "root_path = os.path.join(os.getcwd(), \"drive\", \"My Drive/Colab Notebooks/Project 1\") # replace based on your Google drive organization\n",
        "dataset_path = os.path.join(root_path, \"dataset\") # same here\n",
        "\n",
        "with io.open(os.path.join(dataset_path, \"trueDataTrain.txt\"), encoding='utf8') as real_file:\n",
        "  real_news = real_file.read()\n",
        "with io.open(os.path.join(dataset_path, \"trueDataValidation.txt\"), encoding='utf8') as real_file:\n",
        "  real_news_validation = real_file.read()\n",
        "with io.open(os.path.join(dataset_path, \"fakeDataTrain.txt\"), encoding='utf8') as fake_file:\n",
        "  fake_news = fake_file.read()\n",
        "with io.open(os.path.join(dataset_path, \"fakeDataValidation.txt\"), encoding='utf8') as real_file:\n",
        "  fake_news_validation = real_file.read()\n",
        "\n",
        "tokenized_real_news_training = [list(map(str.lower, word_tokenize(sent))) for sent in sent_tokenize(real_news)]\n",
        "tokenized_fake_news_training = [list(map(str.lower, word_tokenize(sent))) for sent in sent_tokenize(fake_news)]\n",
        "tokenized_real_news_validation = [list(map(str.lower, word_tokenize(sent))) for sent in sent_tokenize(real_news_validation)]\n",
        "tokenized_fake_news_validation = [list(map(str.lower, word_tokenize(sent))) for sent in sent_tokenize(fake_news_validation)]"
      ],
      "execution_count": 82,
      "outputs": [
        {
          "output_type": "stream",
          "text": [
            "[nltk_data] Downloading package punkt to /root/nltk_data...\n",
            "[nltk_data]   Package punkt is already up-to-date!\n"
          ],
          "name": "stderr"
        }
      ]
    },
    {
      "cell_type": "markdown",
      "metadata": {
        "id": "miP2sevQbPbs"
      },
      "source": [
        "Sanity checks for our real and fake training sets"
      ]
    },
    {
      "cell_type": "code",
      "metadata": {
        "id": "BP8TzVmBj95T",
        "outputId": "543c846e-5e37-4973-f286-6cfb3928756c",
        "colab": {
          "base_uri": "https://localhost:8080/",
          "height": 788
        }
      },
      "source": [
        "tokenized_real_news_training[0]"
      ],
      "execution_count": 83,
      "outputs": [
        {
          "output_type": "execute_result",
          "data": {
            "text/plain": [
              "['london',\n",
              " '(',\n",
              " 'reuters',\n",
              " ')',\n",
              " '-',\n",
              " 'britain',\n",
              " 'is',\n",
              " 'seeking',\n",
              " 'to',\n",
              " 'build',\n",
              " 'on',\n",
              " 'the',\n",
              " 'recent',\n",
              " 'momentum',\n",
              " 'in',\n",
              " 'the',\n",
              " 'brexit',\n",
              " 'divorce',\n",
              " 'talks',\n",
              " 'with',\n",
              " 'the',\n",
              " 'european',\n",
              " 'union',\n",
              " 'before',\n",
              " 'a',\n",
              " 'summit',\n",
              " 'next',\n",
              " 'month',\n",
              " ',',\n",
              " 'a',\n",
              " 'spokeswoman',\n",
              " 'for',\n",
              " 'britain',\n",
              " 's',\n",
              " 'department',\n",
              " 'for',\n",
              " 'exiting',\n",
              " 'the',\n",
              " 'european',\n",
              " 'union',\n",
              " 'said',\n",
              " 'on',\n",
              " 'tuesday',\n",
              " '.']"
            ]
          },
          "metadata": {
            "tags": []
          },
          "execution_count": 83
        }
      ]
    },
    {
      "cell_type": "code",
      "metadata": {
        "id": "-8K3DBwDmenY",
        "outputId": "59ec285a-01c1-4790-a103-aa9a1654fde1",
        "colab": {
          "base_uri": "https://localhost:8080/",
          "height": 683
        }
      },
      "source": [
        "tokenized_fake_news_training[0]"
      ],
      "execution_count": 84,
      "outputs": [
        {
          "output_type": "execute_result",
          "data": {
            "text/plain": [
              "['rick',\n",
              " 'santorum',\n",
              " 'had',\n",
              " 'the',\n",
              " 'impossible',\n",
              " 'job',\n",
              " 'of',\n",
              " 'defending',\n",
              " 'donald',\n",
              " 'trump',\n",
              " 'during',\n",
              " 'friday',\n",
              " 's',\n",
              " 'real',\n",
              " 'time',\n",
              " 'and',\n",
              " 'he',\n",
              " 'found',\n",
              " 'himself',\n",
              " 'humiliatingly',\n",
              " 'outnumbered.bill',\n",
              " 'maher',\n",
              " 'began',\n",
              " 'by',\n",
              " 'expressing',\n",
              " 'astonishment',\n",
              " 'at',\n",
              " 'how',\n",
              " 'the',\n",
              " 'republican',\n",
              " 'nominee',\n",
              " 'has',\n",
              " 'been',\n",
              " 'acting',\n",
              " 'throughout',\n",
              " 'the',\n",
              " 'campaign',\n",
              " '.']"
            ]
          },
          "metadata": {
            "tags": []
          },
          "execution_count": 84
        }
      ]
    },
    {
      "cell_type": "markdown",
      "metadata": {
        "id": "ok_0NzjkDrde"
      },
      "source": [
        "## 1.3 Data Preprocessing & Preparation\n",
        "\n",
        "There's a well-known parable in machine learning that 80% of the work is all about data preparation, 10% is supporting infrastructure and 10% is actual modeling. If your \"raw\" dataset is not preprocessed and prepared in a way to maximize its value, then your model will be more like this: https://xkcd.com/1838/. For this project, modeling is the star of the show for learning purposes, but we still want you to pay attention to the preprocessing stage.\n",
        "\n",
        "*We've already tokenized and lowercased* the raw data for you. Here are a few extra things you might want to do:\n",
        "\n",
        "- Think about edge cases. For example, you don't want to accidentally append a period to the last word of a sentence. \n",
        "- Watch out for apostrophes and other tricky things like quotations, they cause lots of edge cases. For example, \"they're\" can be all one token, or two tokens (\"they\", \"'re\") or even three tokens (\"they\", \" ' \", \"re\"). \n",
        "\n",
        "Why did we lowercase all tokens? Because the computer will otherwise consider \"The\" and \"the\" as two separate words and this will cause problems.\n",
        "\n",
        "Note that you may use existing\n",
        "tools just for the purpose of preprocessing. \n",
        "\n",
        "Advice: don't get bugged down in the dozens of preprocessing packages and suggestions that you can find on Towards Data Science or Stack Overflow. Start with this [NLTK tutorial](https://lost-contact.mit.edu/afs/cs.pitt.edu/projects/nltk/docs/tutorial/introduction/nochunks.html#:~:text=The%20Natural%20Language%20Toolkit%20(NLTK,tokenization%2C%20tagging%2C%20and%20parsing.) and that should be plenty."
      ]
    },
    {
      "cell_type": "code",
      "metadata": {
        "id": "RmvEp0D5yhDc",
        "outputId": "29b1d44c-be87-45d2-c015-b6060caeee15",
        "colab": {
          "base_uri": "https://localhost:8080/",
          "height": 665
        }
      },
      "source": [
        "# removes tokens with inner dots\n",
        "def preprocess(data):\n",
        "  data = list(map(lambda s: list(filter(lambda x: '.' not in x or len(x) == 1, s)), data))\n",
        "  return data\n",
        "\n",
        "tokenized_fake_news_training = preprocess(tokenized_fake_news_training)\n",
        "tokenized_fake_news_training[0]"
      ],
      "execution_count": 85,
      "outputs": [
        {
          "output_type": "execute_result",
          "data": {
            "text/plain": [
              "['rick',\n",
              " 'santorum',\n",
              " 'had',\n",
              " 'the',\n",
              " 'impossible',\n",
              " 'job',\n",
              " 'of',\n",
              " 'defending',\n",
              " 'donald',\n",
              " 'trump',\n",
              " 'during',\n",
              " 'friday',\n",
              " 's',\n",
              " 'real',\n",
              " 'time',\n",
              " 'and',\n",
              " 'he',\n",
              " 'found',\n",
              " 'himself',\n",
              " 'humiliatingly',\n",
              " 'maher',\n",
              " 'began',\n",
              " 'by',\n",
              " 'expressing',\n",
              " 'astonishment',\n",
              " 'at',\n",
              " 'how',\n",
              " 'the',\n",
              " 'republican',\n",
              " 'nominee',\n",
              " 'has',\n",
              " 'been',\n",
              " 'acting',\n",
              " 'throughout',\n",
              " 'the',\n",
              " 'campaign',\n",
              " '.']"
            ]
          },
          "metadata": {
            "tags": []
          },
          "execution_count": 85
        }
      ]
    },
    {
      "cell_type": "code",
      "metadata": {
        "id": "XQKQC-RL6adt"
      },
      "source": [
        "# apply preprocessing to all datasets\n",
        "tokenized_real_news_training = preprocess(tokenized_real_news_training)\n",
        "tokenized_fake_news_training = preprocess(tokenized_fake_news_training)\n",
        "tokenized_real_news_validation = preprocess(tokenized_real_news_validation)\n",
        "tokenized_fake_news_validation = preprocess(tokenized_fake_news_validation)"
      ],
      "execution_count": 86,
      "outputs": []
    },
    {
      "cell_type": "markdown",
      "metadata": {
        "id": "IEab9h6xpuhx"
      },
      "source": [
        "**Q1.1: Show some observations or statistics from the dataset** (should be quantitative – i.e. most frequent words, most frequent bigram, etc.)\n",
        "\n",
        "I was curious about the distribution of word lengths in the texts, and if it was different between the real and fake news datasets. \n",
        "\n",
        "I found that more than half of the words in both datasets are between 1 and 4 (inclusive) characters. This accounted for 55% of the words in the real news training set and 57% of the words in the fake news training set.\n",
        "\n",
        "I also found that for the most part, the distributions did not significantly differ between the datasets. However, the range of word lengths is much larger in the fake news dataset. The longest word in the real news dataset was 98 characters, while the longest word in the fake news dataset was 1057 characters.\n",
        "\n",
        "The functions I used to compute these values is below."
      ]
    },
    {
      "cell_type": "code",
      "metadata": {
        "id": "9MQq0uNnqWmR"
      },
      "source": [
        "def get_word_lengths(lst):\n",
        "  length_freq = {}\n",
        "\n",
        "  for sentence in lst:\n",
        "    for word in sentence:\n",
        "      length = len(word)\n",
        "      if length in length_freq:\n",
        "        length_freq[length] += 1\n",
        "      else:\n",
        "        length_freq[length] = 1\n",
        "\n",
        "  count = sum(length_freq.values())\n",
        "  length_freq = {k: v/count for k, v in length_freq.items()}\n",
        "\n",
        "  return dict(sorted(length_freq.items()))"
      ],
      "execution_count": 87,
      "outputs": []
    },
    {
      "cell_type": "code",
      "metadata": {
        "id": "QrOfq20hD9_k",
        "outputId": "791ad346-67ed-4a87-807b-f5181fb6e5db",
        "colab": {
          "base_uri": "https://localhost:8080/",
          "height": 735
        }
      },
      "source": [
        "get_word_lengths(tokenized_real_news_training)"
      ],
      "execution_count": 88,
      "outputs": [
        {
          "output_type": "execute_result",
          "data": {
            "text/plain": [
              "{1: 0.14792889733992787,\n",
              " 2: 0.1350732136031976,\n",
              " 3: 0.1522053849255278,\n",
              " 4: 0.12709416941035803,\n",
              " 5: 0.10146038518928,\n",
              " 6: 0.08454661920566472,\n",
              " 7: 0.0832459043600554,\n",
              " 8: 0.05903206332274109,\n",
              " 9: 0.047762748871803776,\n",
              " 10: 0.028955211172975486,\n",
              " 11: 0.014472284269972444,\n",
              " 12: 0.008397191702201236,\n",
              " 13: 0.0046358692517056745,\n",
              " 14: 0.002962045285791715,\n",
              " 15: 0.001167759053256044,\n",
              " 16: 0.0004383530880139582,\n",
              " 17: 0.00026020466554523133,\n",
              " 18: 0.00014606628231851457,\n",
              " 19: 7.002544052017488e-05,\n",
              " 20: 4.9048656575805316e-05,\n",
              " 21: 6.0462494898476995e-05,\n",
              " 22: 1.0334150913770302e-05,\n",
              " 23: 7.24932974548066e-06,\n",
              " 24: 4.318749635605499e-06,\n",
              " 25: 2.7763390514606782e-06,\n",
              " 26: 1.8508927009737854e-06,\n",
              " 27: 1.0796874089013748e-06,\n",
              " 28: 1.3881695257303391e-06,\n",
              " 29: 3.701785401947571e-06,\n",
              " 30: 4.6272317524344635e-07,\n",
              " 31: 1.5424105841448214e-07,\n",
              " 33: 1.5424105841448214e-07,\n",
              " 38: 1.5424105841448214e-07,\n",
              " 39: 3.0848211682896427e-07,\n",
              " 42: 1.5424105841448214e-07,\n",
              " 52: 1.5424105841448214e-07,\n",
              " 59: 9.254463504868927e-07,\n",
              " 66: 3.0848211682896427e-07,\n",
              " 68: 1.5424105841448214e-07,\n",
              " 73: 1.5424105841448214e-07,\n",
              " 98: 3.0848211682896427e-07}"
            ]
          },
          "metadata": {
            "tags": []
          },
          "execution_count": 88
        }
      ]
    },
    {
      "cell_type": "code",
      "metadata": {
        "id": "vvM4Sh-mEDQl",
        "outputId": "3034c2c0-73ac-4572-8dbe-ffd3550b1fbd",
        "colab": {
          "base_uri": "https://localhost:8080/",
          "height": 1000
        }
      },
      "source": [
        "get_word_lengths(tokenized_fake_news_training)"
      ],
      "execution_count": 89,
      "outputs": [
        {
          "output_type": "execute_result",
          "data": {
            "text/plain": [
              "{1: 0.1386548883542929,\n",
              " 2: 0.14292954252685944,\n",
              " 3: 0.17030252135457588,\n",
              " 4: 0.14590276437607144,\n",
              " 5: 0.10635220983077313,\n",
              " 6: 0.07878545927507333,\n",
              " 7: 0.07482015766485257,\n",
              " 8: 0.050782623936830154,\n",
              " 9: 0.0379408192017943,\n",
              " 10: 0.024083188813559454,\n",
              " 11: 0.01260723205417317,\n",
              " 12: 0.007455160605538618,\n",
              " 13: 0.004400599236116951,\n",
              " 14: 0.0023902011591931172,\n",
              " 15: 0.0014362984955730966,\n",
              " 16: 0.0004457930478587306,\n",
              " 17: 0.0002814085013705053,\n",
              " 18: 0.00016176069099759117,\n",
              " 19: 9.301567714297822e-05,\n",
              " 20: 6.139821848083752e-05,\n",
              " 21: 3.857067571232101e-05,\n",
              " 22: 2.1646807797731178e-05,\n",
              " 23: 1.1544964158789962e-05,\n",
              " 24: 9.5770725408144e-06,\n",
              " 25: 3.8045904614194194e-06,\n",
              " 26: 5.903674853926685e-06,\n",
              " 27: 3.542204912356011e-06,\n",
              " 28: 1.9678916179755615e-06,\n",
              " 29: 1.8366988434438576e-06,\n",
              " 30: 2.0990843925072657e-06,\n",
              " 31: 1.8366988434438576e-06,\n",
              " 32: 1.311927745317041e-06,\n",
              " 33: 1.311927745317041e-06,\n",
              " 34: 5.247710981268164e-07,\n",
              " 35: 5.247710981268164e-07,\n",
              " 36: 6.559638726585205e-07,\n",
              " 37: 7.871566471902247e-07,\n",
              " 38: 2.623855490634082e-07,\n",
              " 39: 5.247710981268164e-07,\n",
              " 40: 1.311927745317041e-07,\n",
              " 41: 1.311927745317041e-07,\n",
              " 42: 1.311927745317041e-07,\n",
              " 45: 3.9357832359511234e-07,\n",
              " 46: 5.247710981268164e-07,\n",
              " 47: 1.311927745317041e-07,\n",
              " 48: 1.311927745317041e-07,\n",
              " 49: 1.311927745317041e-07,\n",
              " 50: 1.311927745317041e-07,\n",
              " 51: 2.623855490634082e-07,\n",
              " 53: 1.311927745317041e-07,\n",
              " 54: 1.311927745317041e-07,\n",
              " 55: 2.623855490634082e-07,\n",
              " 57: 1.311927745317041e-07,\n",
              " 62: 1.311927745317041e-07,\n",
              " 63: 1.311927745317041e-07,\n",
              " 68: 1.311927745317041e-07,\n",
              " 69: 2.623855490634082e-07,\n",
              " 72: 1.311927745317041e-07,\n",
              " 92: 1.311927745317041e-07,\n",
              " 113: 1.311927745317041e-07,\n",
              " 120: 1.311927745317041e-07,\n",
              " 130: 1.311927745317041e-07,\n",
              " 917: 1.311927745317041e-07,\n",
              " 1013: 2.623855490634082e-07,\n",
              " 1057: 2.623855490634082e-07}"
            ]
          },
          "metadata": {
            "tags": []
          },
          "execution_count": 89
        }
      ]
    },
    {
      "cell_type": "markdown",
      "metadata": {
        "id": "rcw8M5nesOQD"
      },
      "source": [
        "**Please answer the following question**:\n",
        "\n",
        "**Q1.2: What did you do in your preprocessing part?**"
      ]
    },
    {
      "cell_type": "markdown",
      "metadata": {
        "id": "zQVi0l76MBcs"
      },
      "source": [
        "We noticed that the original tokenization contained tokens with inner dots like `outnumbered.bill`. These tokens are not split properly and are therefore extremley unlikely to appear in the test data. For both of these reasons, we remove all tokens with inner dots."
      ]
    },
    {
      "cell_type": "markdown",
      "metadata": {
        "id": "d8oo9zHrsYBD"
      },
      "source": [
        "# Part 2: Compute Unsmoothed Language Models.\n",
        "\n",
        "To start, you will write a program that computes unsmoothed unigram and bigram probabilities. You should consider real and fake news as separate corpora and\n",
        "generate a separate language model for each set of news.\n",
        "We have already loaded the data and (partially) preprocessed it and you probably did some of your own preprocessing. \n",
        "\n",
        "Note that you were allowed to use existing\n",
        "tools for the purpose of preprocessing, but you must write the code for gathering n-gram counts and computing n-gram probabilities yourself. \n",
        "\n",
        "For example, consider the\n",
        "simple corpus consisting of the sole sentence:\n",
        "\n",
        "\n",
        "> the students liked the assignment\n",
        "\n",
        "Part of what your program would compute for a unigram and bigram model, for example,\n",
        "would be the following:\n",
        "\n",
        "\n",
        "> $P(\"the\") = 0.4; P(\"liked\") = 0.2; P(\"the\"|\"liked\") = 1.0; P(\"students\"|\"the\") = 0.5$\n",
        "\n",
        "Remember to add a symbol to mark the beginning of sentence. See Sept. 7th lecture, p25-28 for an example.\n",
        "\n",
        "\n"
      ]
    },
    {
      "cell_type": "code",
      "metadata": {
        "id": "Q5y3VQVQw_TZ"
      },
      "source": [
        "print_text=tokenized_fake_news_training[3]"
      ],
      "execution_count": 90,
      "outputs": []
    },
    {
      "cell_type": "code",
      "metadata": {
        "id": "mticrzslHhe8"
      },
      "source": [
        "# Returns a dictionary that maps a unigram : str to its number of occurrences\n",
        "# Requires `text` is a list of tokens : str\n",
        "def unigram_counts(text):\n",
        "  counts = {}\n",
        "\n",
        "  for t in text:\n",
        "    counts[t] = 1 if t not in counts else counts[t] + 1\n",
        "\n",
        "  return counts"
      ],
      "execution_count": 91,
      "outputs": []
    },
    {
      "cell_type": "code",
      "metadata": {
        "id": "BO0jmSBrIHJt"
      },
      "source": [
        "# Returns a dictionary that maps a bigram : (str, str) to its number of occurrences\n",
        "# Requires `text` is a list of tokens : str\n",
        "def bigram_counts(text):\n",
        "  words = set(text)\n",
        "  counts = {}       ## we don't store counts that are 0\n",
        "\n",
        "  for i in range(1, len(text)):\n",
        "    b = (text[i-1], text[i])\n",
        "    counts[b] = 1 if b not in counts else counts[b] + 1\n",
        "\n",
        "  return counts"
      ],
      "execution_count": 92,
      "outputs": []
    },
    {
      "cell_type": "code",
      "metadata": {
        "id": "8jG-ea1JLAn9",
        "outputId": "e7b2e50a-ae99-4c26-f8c5-4f0f4dc122b2",
        "colab": {
          "base_uri": "https://localhost:8080/",
          "height": 174
        }
      },
      "source": [
        "unigram_counts(print_text)"
      ],
      "execution_count": 93,
      "outputs": [
        {
          "output_type": "execute_result",
          "data": {
            "text/plain": [
              "{'.': 1,\n",
              " 'he': 1,\n",
              " 'it': 1,\n",
              " 'like': 1,\n",
              " 'lose': 1,\n",
              " 'not': 1,\n",
              " 's': 2,\n",
              " 'to': 1,\n",
              " 'trying': 1}"
            ]
          },
          "metadata": {
            "tags": []
          },
          "execution_count": 93
        }
      ]
    },
    {
      "cell_type": "code",
      "metadata": {
        "id": "4hT6mYJYQphh",
        "outputId": "0c6d4680-b503-4c3c-efd5-86caae42ee8a",
        "colab": {
          "base_uri": "https://localhost:8080/",
          "height": 174
        }
      },
      "source": [
        "bigram_counts(print_text)"
      ],
      "execution_count": 94,
      "outputs": [
        {
          "output_type": "execute_result",
          "data": {
            "text/plain": [
              "{('he', 's'): 1,\n",
              " ('it', 's'): 1,\n",
              " ('like', 'he'): 1,\n",
              " ('lose', '.'): 1,\n",
              " ('not', 'like'): 1,\n",
              " ('s', 'not'): 1,\n",
              " ('s', 'trying'): 1,\n",
              " ('to', 'lose'): 1,\n",
              " ('trying', 'to'): 1}"
            ]
          },
          "metadata": {
            "tags": []
          },
          "execution_count": 94
        }
      ]
    },
    {
      "cell_type": "markdown",
      "metadata": {
        "id": "MqkMkZIkst8i"
      },
      "source": [
        "## 2.1 Unsmoothed Uni-gram Model\n",
        "\n"
      ]
    },
    {
      "cell_type": "code",
      "metadata": {
        "id": "aSpCXMDUs3Xs"
      },
      "source": [
        "# Returns a dictionary that maps a unigram : str to its (prior) probability\n",
        "# Requires `text` is a list of tokens : str\n",
        "def unigram_model(text):\n",
        "  counts_dict = unigram_counts(text) # dictionary maps tokens to counts\n",
        "  total_count = sum(counts_dict.values())\n",
        "  probabilities = {t : c/total_count for t, c in counts_dict.items()}\n",
        "  return probabilities"
      ],
      "execution_count": 95,
      "outputs": []
    },
    {
      "cell_type": "code",
      "metadata": {
        "id": "km82WWLKKwcy",
        "outputId": "24adea9b-9a10-411a-91fd-cd6c667a3b8d",
        "colab": {
          "base_uri": "https://localhost:8080/",
          "height": 174
        }
      },
      "source": [
        "unigram_model(print_text)"
      ],
      "execution_count": 96,
      "outputs": [
        {
          "output_type": "execute_result",
          "data": {
            "text/plain": [
              "{'.': 0.1,\n",
              " 'he': 0.1,\n",
              " 'it': 0.1,\n",
              " 'like': 0.1,\n",
              " 'lose': 0.1,\n",
              " 'not': 0.1,\n",
              " 's': 0.2,\n",
              " 'to': 0.1,\n",
              " 'trying': 0.1}"
            ]
          },
          "metadata": {
            "tags": []
          },
          "execution_count": 96
        }
      ]
    },
    {
      "cell_type": "markdown",
      "metadata": {
        "id": "cuyn_xPjs4TR"
      },
      "source": [
        "## 2.2 Unsmoothed Bi-gram Model"
      ]
    },
    {
      "cell_type": "code",
      "metadata": {
        "id": "j7opVGtks_kY"
      },
      "source": [
        "# Returns a dictionary that maps a bigram : (str, str) to its (prior) probability\n",
        "# Requires `text` is a list of tokens : str\n",
        "def bigram_model(text):\n",
        "  # dictionaries mapping n-grams to counts\n",
        "  unigram_count_dict = unigram_counts(text)\n",
        "  bigram_counts_dict = bigram_counts(text)\n",
        "\n",
        "  probabilities = { (t1, t2) : c/unigram_count_dict[t1] for (t1, t2), c in bigram_counts_dict.items() }\n",
        "  return probabilities"
      ],
      "execution_count": 97,
      "outputs": []
    },
    {
      "cell_type": "code",
      "metadata": {
        "id": "mr3g42WoKtGN",
        "outputId": "f5dc9b1a-e117-439a-fdf2-8d7578f0930d",
        "colab": {
          "base_uri": "https://localhost:8080/",
          "height": 174
        }
      },
      "source": [
        "bigram_model(print_text)"
      ],
      "execution_count": 98,
      "outputs": [
        {
          "output_type": "execute_result",
          "data": {
            "text/plain": [
              "{('he', 's'): 1.0,\n",
              " ('it', 's'): 1.0,\n",
              " ('like', 'he'): 1.0,\n",
              " ('lose', '.'): 1.0,\n",
              " ('not', 'like'): 1.0,\n",
              " ('s', 'not'): 0.5,\n",
              " ('s', 'trying'): 0.5,\n",
              " ('to', 'lose'): 1.0,\n",
              " ('trying', 'to'): 1.0}"
            ]
          },
          "metadata": {
            "tags": []
          },
          "execution_count": 98
        }
      ]
    },
    {
      "cell_type": "markdown",
      "metadata": {
        "id": "ejmIJWSVwRJG"
      },
      "source": [
        "**Q2: What data structure are you using to store probabilities for unigrams and bigrams? Why did you select this data structure?**\n",
        "\n",
        "I used a dictionary (i.e. hash table) because we will need to index the count and probability of a given unigram or bigram, and dictionaries have a constant-time indexing operation.\n"
      ]
    },
    {
      "cell_type": "markdown",
      "metadata": {
        "id": "miWWgYxZtAZu"
      },
      "source": [
        "# Part 3: Smoothed Language Model\n",
        "In this part, you will need to implement **at least one** smoothing method and **at least one** method to handle unknown words in the test data. You can choose any method(s) that you want for each. You should make clear\n",
        "**what method(s)** were selected and **why**, providing a description for any non-standard approach (e.g., an approach that was not covered in class or in the readings). \n",
        "\n",
        "You should use the\n",
        "provided validation sets to experiment with different smoothing/unknown word handling\n",
        "methods if you wish to see which one is more effective for this task. (We will cover this in Part 4)."
      ]
    },
    {
      "cell_type": "markdown",
      "metadata": {
        "id": "SfiAOKfEuMGy"
      },
      "source": [
        "## 3.1 Unknown Words Handling\n",
        "\n",
        "**Q3.1: How are you going to handle unknown words? What parameters might be needed? Do you need a method to determine the value?**\n",
        "\n",
        "We first sort the tokens by their frequency. We then take the bottom `alpha`-percentile of tokens and replace them with the symbol for unknown words `UNK`. This `UNK` symbol is treated as any other token in the n-gram probability computations.\n",
        "\n",
        "This is equivalent to implicitly creating a closed vocabulary of the `(1-alpha)` percent most frequent tokens. \n",
        "\n",
        "We will need to choose `alpha` using a validation set.\n",
        "\n"
      ]
    },
    {
      "cell_type": "code",
      "metadata": {
        "id": "92KxlweHeGq1"
      },
      "source": [
        "UNK = '<UNK>' # marks an unknown word"
      ],
      "execution_count": 99,
      "outputs": []
    },
    {
      "cell_type": "code",
      "metadata": {
        "id": "JdlYyrV7aEqN"
      },
      "source": [
        "# Returns the text with all tokens not in the vocabulary\n",
        "#   replaced with the unknown word symbol UNK\n",
        "# Requires `text` is a list of tokens : str\n",
        "def replace_unk_words(text, vocabulary):\n",
        "  vocabulary = set(vocabulary)\n",
        "  unk_text = list(map(lambda t: UNK if t not in vocabulary else t, text))\n",
        "  return unk_text"
      ],
      "execution_count": 100,
      "outputs": []
    },
    {
      "cell_type": "code",
      "metadata": {
        "id": "0xFOxRuJfVLU"
      },
      "source": [
        "# Returns the text with the bottom `alpha`-percentile of tokens by frequency\n",
        "#   replaced with the unknown word symbol UNK\n",
        "# Requires `text` is a list of tokens : str\n",
        "def generate_unk_text(text, alpha):\n",
        "  # compute frequency of each token\n",
        "  token_freq = unigram_counts(text)\n",
        "  # sort tokens in order of ascending frequency\n",
        "  sorted_tokens = sorted(token_freq, key=token_freq.get)\n",
        "  # get the bottom `alpha`-percentile of tokens by frequency\n",
        "  alpha_tokens = set(sorted_tokens[:int(len(sorted_tokens)*alpha)])\n",
        "  # map original text with UNK-replacement funcion\n",
        "  unk_text = list(map(lambda t: UNK if t in alpha_tokens else t, text))\n",
        "  return unk_text"
      ],
      "execution_count": 101,
      "outputs": []
    },
    {
      "cell_type": "code",
      "metadata": {
        "id": "mMnVu28skAcE",
        "outputId": "75f8508e-601c-40c5-a812-615fcd71f4f6",
        "colab": {
          "base_uri": "https://localhost:8080/",
          "height": 34
        }
      },
      "source": [
        "generate_unk_text(print_text, 0.3)"
      ],
      "execution_count": 102,
      "outputs": [
        {
          "output_type": "execute_result",
          "data": {
            "text/plain": [
              "['<UNK>', 's', '<UNK>', 'like', 'he', 's', 'trying', 'to', 'lose', '.']"
            ]
          },
          "metadata": {
            "tags": []
          },
          "execution_count": 102
        }
      ]
    },
    {
      "cell_type": "markdown",
      "metadata": {
        "id": "aRGK0_x_t46P"
      },
      "source": [
        "## 3.2 Smoothing"
      ]
    },
    {
      "cell_type": "code",
      "metadata": {
        "id": "nmW8G3mqt-5z"
      },
      "source": [
        "# Returns a function that takes a unigram : str and returns its add-k probability\n",
        "# Requires `unigram_counts` is a dictionary that maps unigrams to their MLE counts\n",
        "def add_k_unigram_model(unigram_counts, k):\n",
        "  total = sum(unigram_counts.values())\n",
        "  unique = len(unigram_counts)\n",
        "\n",
        "  probability_function = lambda t : \\\n",
        "    (unigram_counts.get(t, 0) + k) / (total + unique*k)\n",
        "  return probability_function"
      ],
      "execution_count": 103,
      "outputs": []
    },
    {
      "cell_type": "code",
      "metadata": {
        "id": "Szs3zqwSFDEY"
      },
      "source": [
        "# Returns a function that takes a bigram : (str, str) and returns its add-k probability\n",
        "# Requires `unigram_counts` is a dictionary that maps unigrams to their MLE counts\n",
        "#   and `bigram_counts` is a similar dictionary\n",
        "def add_k_bigram_model(unigram_counts, bigram_counts, k):\n",
        "  unique = len(unigram_counts)\n",
        "\n",
        "  probability_function = lambda t1, t2 : \\\n",
        "    (bigram_counts.get((t1, t2), 0) + k) / (unigram_counts.get(t1, 0) + unique*k)\n",
        "  return probability_function\n"
      ],
      "execution_count": 104,
      "outputs": []
    },
    {
      "cell_type": "code",
      "metadata": {
        "id": "j-qlEsrxNQXP",
        "outputId": "5cbda64f-c57d-49b2-d3cf-d9ff525d5369",
        "colab": {
          "base_uri": "https://localhost:8080/",
          "height": 34
        }
      },
      "source": [
        "unigram_model = add_k_unigram_model(unigram_counts(print_text), 0.5)\n",
        "unigram_model('s')"
      ],
      "execution_count": 105,
      "outputs": [
        {
          "output_type": "execute_result",
          "data": {
            "text/plain": [
              "0.1724137931034483"
            ]
          },
          "metadata": {
            "tags": []
          },
          "execution_count": 105
        }
      ]
    },
    {
      "cell_type": "code",
      "metadata": {
        "id": "iqJVmo6BOiRL",
        "outputId": "539df469-7261-4605-d671-33426ac231c5",
        "colab": {
          "base_uri": "https://localhost:8080/",
          "height": 34
        }
      },
      "source": [
        "bigram_model = add_k_bigram_model(unigram_counts(print_text), bigram_counts(print_text), 0.2)\n",
        "bigram_model('s', 'not')"
      ],
      "execution_count": 106,
      "outputs": [
        {
          "output_type": "execute_result",
          "data": {
            "text/plain": [
              "0.3157894736842105"
            ]
          },
          "metadata": {
            "tags": []
          },
          "execution_count": 106
        }
      ]
    },
    {
      "cell_type": "markdown",
      "metadata": {
        "id": "AbHkdI7-t_7D"
      },
      "source": [
        "**Please answer the following question:**\n",
        "\n",
        "**Q3.2: Which smoothing method did you choose? Are there any parameters, if so how are you planning to pick the value? If you choose to implement more than 1 method (not a requirement), please state each of them. Providing a description for any non-standard approach, e.g., an approach that was not covered in class or in the readings**\n",
        "\n",
        "We chose to use add-k smoothing for its simplicity. This type of smoothing only has a single parameter `k`, which is how much the MLE counts of unseen events is incremented.\n",
        "\n",
        "We will need to choose `k` using a validation set."
      ]
    },
    {
      "cell_type": "markdown",
      "metadata": {
        "id": "ML03appeuSm3"
      },
      "source": [
        "# Part 4: Perplexity\n",
        "At this point, we have developed several language models: unigram vs bigram, unsmoothed vs smoothed. We now want to compare all the models. \n",
        "\n",
        "Implement code to compute the perplexity of a **“development set.”** (“Development set”\n",
        "is just another way to refer to the validation set—part of a dataset that is distinct from\n",
        "the training portion and the test portion.) Compute and report the perplexity of each\n",
        "of the language models (one trained on true news and fake news) on\n",
        "the development corpora. Compute perplexity as follows:\n",
        "\\begin{align*}\n",
        "PP &= \\left(\\prod_i^N\\frac{1}{P\\left(W_i\\mid W_{i-1}, ...W_{i-n+1}\\right)}\\right)^{\\frac{1}{N}}\\\\\n",
        "&=\\exp \\frac{1}{N}\\sum_{i}^N-\\log P\\left(W_i\\mid W_{i-1}, ...W_{i-n+1}\\right)\n",
        "\\end{align*}\n",
        "where $N$ is the total number of tokens in the test corpus and $P\\left(W_i\\mid W_{i-1}, ...W_{i-n+1}\\right)$\n",
        "is the n-gram probability of your model. Under the second definition above, perplexity\n",
        "is a function of the average (per-word) log probability: use this to avoid numerical\n",
        "computation errors.\n",
        "\n",
        "Please complete the following tasks and report what you have observed. Remember, lower perplexity means better model."
      ]
    },
    {
      "cell_type": "code",
      "metadata": {
        "id": "hOhb-Ws1yqWi"
      },
      "source": [
        "START = '<START>' # marks the beginning of a sentence\n",
        "END   = '<END>'   # marks the end of a sentence"
      ],
      "execution_count": 107,
      "outputs": []
    },
    {
      "cell_type": "code",
      "metadata": {
        "id": "Pf2phKs8bvaB"
      },
      "source": [
        "# Returns the a list of tokens : str with the special START and END symbols inserted\n",
        "# Requires `data` is a list of a list of tokens : str\n",
        "def process_text(data):\n",
        "  text = []\n",
        "  for i in range(len(data)):\n",
        "    text += [START] + data[i] + [END]\n",
        "  return text"
      ],
      "execution_count": 108,
      "outputs": []
    },
    {
      "cell_type": "code",
      "metadata": {
        "id": "i0LyD8mXyTyr"
      },
      "source": [
        "## Preprocess tokenized datasets\n",
        "\n",
        "processed_real_news_training = process_text(tokenized_real_news_training)\n",
        "processed_fake_news_training = process_text(tokenized_fake_news_training)\n",
        "processed_real_news_validation = process_text(tokenized_real_news_validation)\n",
        "processed_fake_news_validation = process_text(tokenized_fake_news_validation)"
      ],
      "execution_count": 109,
      "outputs": []
    },
    {
      "cell_type": "markdown",
      "metadata": {
        "id": "aT1IRyohJw7e"
      },
      "source": [
        "## Task 1: Perplexity for smoothed unigram and smoothed bigram\n",
        "*Note: If you choose more than one smoothing method, pick one of them to compute. If you need to try different values of parameters, you can try them out here.*\n"
      ]
    },
    {
      "cell_type": "code",
      "metadata": {
        "id": "OLgAW7RGXVGW"
      },
      "source": [
        "## N-gram model factories\n",
        "\n",
        "# Returns a function that takes a unigram : str and returns its add-k unigram probability\n",
        "# Requires `text` is a list of tokens\n",
        "def unigram_model_factory(text, alpha=0.1, k=0.5):\n",
        "  unk_text = generate_unk_text(text, alpha)\n",
        "  model = add_k_unigram_model(unigram_counts(unk_text), k)\n",
        "  return model\n",
        "\n",
        "# Returns a function that takes a bigram : (str, str) and returns its add-k bigram probability\n",
        "# Requires `text` is a list of tokens\n",
        "def bigram_model_factory(text, alpha=0.1, k=0.5):\n",
        "  unk_text = generate_unk_text(text, alpha)\n",
        "  model = add_k_bigram_model(unigram_counts(unk_text), bigram_counts(unk_text), k)\n",
        "  return model"
      ],
      "execution_count": 110,
      "outputs": []
    },
    {
      "cell_type": "code",
      "metadata": {
        "id": "ZlQbZp3eWvxw"
      },
      "source": [
        "## Build all unigram and bigram models\n",
        "\n",
        "real_train_unigram_model = unigram_model_factory(processed_real_news_training)\n",
        "fake_train_unigram_model = unigram_model_factory(processed_fake_news_training)\n",
        "\n",
        "real_train_bigram_model = bigram_model_factory(processed_real_news_training)\n",
        "fake_train_bigram_model = bigram_model_factory(processed_fake_news_training)\n",
        "\n",
        "## Generate validation sets\n",
        "\n",
        "real_news_validation_set = replace_unk_words(processed_real_news_validation, processed_real_news_training)\n",
        "fake_news_validation_set = replace_unk_words(processed_fake_news_validation, processed_fake_news_training)"
      ],
      "execution_count": 111,
      "outputs": []
    },
    {
      "cell_type": "code",
      "metadata": {
        "id": "kqgqu3vTYp4J"
      },
      "source": [
        "import math\n",
        "\n",
        "# Returns the perplexity of a unigram model on a test text\n",
        "# Requires `model` is a function that takes a unigram : str and returns its probability\n",
        "#   and `text` is a list of tokens\n",
        "def unigram_perplexity(model, text):\n",
        "  log_sum = 0\n",
        "  for unigram in text:\n",
        "    unigram_probability = -1 * math.log(model(unigram))\n",
        "    log_sum += unigram_probability\n",
        "  token_count = len(text)\n",
        "  if token_count == 0:\n",
        "    return 0\n",
        "  else:\n",
        "    return math.exp(log_sum / token_count)\n",
        "  "
      ],
      "execution_count": 112,
      "outputs": []
    },
    {
      "cell_type": "code",
      "metadata": {
        "id": "I0dbxirLeWxl"
      },
      "source": [
        "# Returns the perplexity of a bigram model on a test text\n",
        "# Requires `model` is a function that takes a bigram : (str, str) and returns its probability\n",
        "#   and `text` is a list of tokens\n",
        "def bigram_perplexity(model, text):\n",
        "  log_sum = 0\n",
        "  for i in range(1, len(text)):\n",
        "    bigram = (text[i-1], text[i])\n",
        "    bigram_probability = -1 * math.log(model(*bigram))\n",
        "    log_sum += bigram_probability\n",
        "  token_count = len(text)\n",
        "  if token_count == 0:\n",
        "    return 0\n",
        "  else:\n",
        "    return math.exp(log_sum / token_count)"
      ],
      "execution_count": 113,
      "outputs": []
    },
    {
      "cell_type": "code",
      "metadata": {
        "id": "YuX4MbyVc24u",
        "outputId": "ad41c391-c560-44c5-a257-b5bb52f35fe8",
        "colab": {
          "base_uri": "https://localhost:8080/",
          "height": 52
        }
      },
      "source": [
        "print('Perplexity of unigram model on real news validation text')\n",
        "unigram_perplexity(real_train_unigram_model, real_news_validation_set)"
      ],
      "execution_count": 114,
      "outputs": [
        {
          "output_type": "stream",
          "text": [
            "Perplexity of unigram model on real news validation text\n"
          ],
          "name": "stdout"
        },
        {
          "output_type": "execute_result",
          "data": {
            "text/plain": [
              "858.0305632675738"
            ]
          },
          "metadata": {
            "tags": []
          },
          "execution_count": 114
        }
      ]
    },
    {
      "cell_type": "code",
      "metadata": {
        "id": "Zj85O6uxgfBC",
        "outputId": "396ec94d-0613-4cd5-cdfb-50eaf6e8978c",
        "colab": {
          "base_uri": "https://localhost:8080/",
          "height": 52
        }
      },
      "source": [
        "print('Perplexity of unigram model on fake news validation text')\n",
        "unigram_perplexity(fake_train_unigram_model, fake_news_validation_set)"
      ],
      "execution_count": 115,
      "outputs": [
        {
          "output_type": "stream",
          "text": [
            "Perplexity of unigram model on fake news validation text\n"
          ],
          "name": "stdout"
        },
        {
          "output_type": "execute_result",
          "data": {
            "text/plain": [
              "968.8665337312667"
            ]
          },
          "metadata": {
            "tags": []
          },
          "execution_count": 115
        }
      ]
    },
    {
      "cell_type": "code",
      "metadata": {
        "id": "nCSdDPBofNcq",
        "outputId": "df12b881-4535-4216-c717-e078d78fcc27",
        "colab": {
          "base_uri": "https://localhost:8080/",
          "height": 52
        }
      },
      "source": [
        "print('Perplexity of bigram model on real news validation text')\n",
        "bigram_perplexity(real_train_bigram_model, real_news_validation_set)"
      ],
      "execution_count": 116,
      "outputs": [
        {
          "output_type": "stream",
          "text": [
            "Perplexity of bigram model on real news validation text\n"
          ],
          "name": "stdout"
        },
        {
          "output_type": "execute_result",
          "data": {
            "text/plain": [
              "640.116202876395"
            ]
          },
          "metadata": {
            "tags": []
          },
          "execution_count": 116
        }
      ]
    },
    {
      "cell_type": "code",
      "metadata": {
        "id": "k3834oC9glMf",
        "outputId": "71c304fa-4bf3-4add-c071-4ddd3dbb7f1a",
        "colab": {
          "base_uri": "https://localhost:8080/",
          "height": 52
        }
      },
      "source": [
        "print('Perplexity of bigram model on fake news validation text')\n",
        "bigram_perplexity(fake_train_bigram_model, fake_news_validation_set)"
      ],
      "execution_count": 117,
      "outputs": [
        {
          "output_type": "stream",
          "text": [
            "Perplexity of bigram model on fake news validation text\n"
          ],
          "name": "stdout"
        },
        {
          "output_type": "execute_result",
          "data": {
            "text/plain": [
              "931.5201494157861"
            ]
          },
          "metadata": {
            "tags": []
          },
          "execution_count": 117
        }
      ]
    },
    {
      "cell_type": "markdown",
      "metadata": {
        "id": "QbxTiHHh7Lwc"
      },
      "source": [
        "**Q4.1: Why do we need to compute perplexity after smoothing?**\n",
        "\n",
        "N-gram models are subject to data sparsity because most corpa aren’t\n",
        "large enough to contain all possible N-grams.\n",
        "\n",
        "Any N-gram that is not in the training set is computed to have a probability of 0.\n",
        "\n",
        "If the probability of any word in the test set is computed to be 0, the probability of the entire test set is also computed to be 0. Since we cannot take the inverse, we cannot compute perplexity, and therefore cannot evaluate the model at all.\n",
        "\n",
        "Therefore we need to introduce smoothing before computing perplexity.\n",
        "\n",
        "**Q4.2: Did you choose any values for parameters?**\n",
        "\n",
        "I had to choose values for alpha and k. I chose alpha to be 0.1 since there wasn't much improvement above that value, and intuitively I don't want to remove to many infrequent words from the dataset. I chose k to be 0.5 although this value seemed to affect the total perplexity much less."
      ]
    },
    {
      "cell_type": "markdown",
      "metadata": {
        "id": "RQxfllB0KfKf"
      },
      "source": [
        "## Task 2: Compute perplexity for other smoothing methods (optional). \n",
        "*Note: If you only pick one smoothing method, you can omit this task. If you need to try different values of parameters, you can try them out here.*"
      ]
    },
    {
      "cell_type": "code",
      "metadata": {
        "id": "5fU-sCOYK_xI"
      },
      "source": [
        "# TODO: compute perplexity for your rest of smoothing method."
      ],
      "execution_count": 118,
      "outputs": []
    },
    {
      "cell_type": "markdown",
      "metadata": {
        "id": "VaALsOnk7FZJ"
      },
      "source": [
        "**Q4.3: If your smoothing method needs to pick a parameter, what is the value of your parameter?**\n",
        "\n",
        "Your answer:\n",
        "\n",
        "**Q4.4: Which smoothing method is the best among your choices?**\n",
        "\n",
        "Your answer:"
      ]
    },
    {
      "cell_type": "markdown",
      "metadata": {
        "id": "JKH7JpZWvdP5"
      },
      "source": [
        "# Part 5: Putting Everything Together and Submitting to Kaggle\n",
        "Combining all the previous parts together, we have developed a bunch of language models. Before we proceed to the next step, let's check a few things (no need to answer):\n",
        "* Did you train your model only on training set?\n",
        "* Did you validate your model only on validation/development set?\n",
        "* Did you determine all your parameters?\n",
        "\n",
        "Finally, please answer:\n",
        "\n",
        "**Q5: What is your choice of language model, and why?**\n",
        "\n",
        "We chose to use the add-k smoothed bigram language model because it has on average the lowest perplexity.\n",
        "\n"
      ]
    },
    {
      "cell_type": "markdown",
      "metadata": {
        "id": "E7bWKZQjv2Ht"
      },
      "source": [
        "## Part 5.1: First Model Submission to Kaggle\n",
        "\n",
        "Now we need to apply our model to testing data. What you need to do:\n",
        "* Takes the test data as input, and generates an output of your prediction based on your chosen language model\n",
        "* Your output file should be ONLY your predictions\n",
        "* Submit to Kaggle\n",
        "\n",
        "You should use your trained model to predict labels for all the news in `TestData.txt`. Output your predictions to a **csv** file and submit it to kaggle. Each line should contain the id of the test news and its corresponding prediction (in total 4489 lines). In other words, your output should look like (**including the header**):\n",
        "```\n",
        "Id,Prediction\n",
        "0,0\n",
        "1,0\n",
        "2,1\n",
        "3,0\n",
        "...\n",
        "4488,1\n",
        "```\n",
        "Note that you should add the header `Id,Prediction` and there is no space in the output. The Id starts from 0 (not 1).\n",
        "\n",
        "Use this kaggle [link](https://www.kaggle.com/t/a032d54898b24b4bb2f29e7165ac5fdf) to submit your output. Your team name should be the concatenation of your netids, **exactly in the same order as this notebook is named**. For example, if notebook is 4740_FA20_p1_jb123_cj456, then Kaggle group should be jb123_cj456.\n"
      ]
    },
    {
      "cell_type": "code",
      "metadata": {
        "id": "wqECbQs7wDFr"
      },
      "source": [
        "with io.open(os.path.join(dataset_path, \"TestData.txt\"), encoding='utf8') as real_file:\n",
        "  test_data = real_file.read()\n",
        "split_test_data = test_data.split('\\n')"
      ],
      "execution_count": 120,
      "outputs": []
    },
    {
      "cell_type": "code",
      "metadata": {
        "id": "EJ-vELDwkQiR",
        "outputId": "ff8c2716-badf-43d7-ec40-fa0a5a9b5a62",
        "colab": {
          "base_uri": "https://localhost:8080/",
          "height": 34
        }
      },
      "source": [
        "with open(os.path.join(dataset_path, \"../kaggle_predictions.txt\"), mode='w') as f:\n",
        "  f.write('Id,Prediction\\n')\n",
        "\n",
        "  for id, text in enumerate(split_test_data):\n",
        "    tokenized_text = [list(map(str.lower, word_tokenize(sent))) for sent in sent_tokenize(text)]\n",
        "    processed_text = process_text(tokenized_text)\n",
        "    \n",
        "    predict_real = unigram_perplexity(real_train_unigram_model, processed_text)\n",
        "    predict_fake = unigram_perplexity(fake_train_unigram_model, processed_text)\n",
        "\n",
        "    predict_real = bigram_perplexity(real_train_bigram_model, processed_text)\n",
        "    predict_fake = bigram_perplexity(fake_train_bigram_model, processed_text)\n",
        "\n",
        "    if predict_fake < predict_real:\n",
        "      f.write(f'{id},0\\n')\n",
        "    else:\n",
        "      f.write(f'{id},1\\n')\n",
        "\n",
        "    if id == 4488:\n",
        "      break\n",
        "\n",
        "print('DONE')"
      ],
      "execution_count": 121,
      "outputs": [
        {
          "output_type": "stream",
          "text": [
            "DONE\n"
          ],
          "name": "stdout"
        }
      ]
    },
    {
      "cell_type": "markdown",
      "metadata": {
        "id": "uBtISMsewD4e"
      },
      "source": [
        "# Part 6: Naive Bayes\n",
        "\n",
        "The Naive Bayes classification method is based on Bayes Rule. Suppose we have a news article *d* and its label *c* (either 0 or 1).\n",
        "\\begin{align*}\n",
        "P(c|d)=\\frac{P(d|c)P(c)}{P(d)}\n",
        "\\end{align*}\n",
        "Likelihood: $P(d|c)$. In real/fake corpus, how likely *d* would appear.\n",
        "\n",
        "Prior: $P(c)$. The probability of real/fake news in general.\n",
        "\n",
        "Posterior: $P(c|d)$. Given *d*, how likely is it that it is real/fake.\n",
        "\n",
        "Goal: $\\underset{c\\in \\{0,1\\}}{\\operatorname{argmax}} P(c|d)$, which is equivalent to $\\underset{c\\in \\{0,1\\}}{\\operatorname{argmax}} P(d|c)P(c)$.\n",
        "\n",
        "The equivalence holds because $P(d)$ is the same for any $c$. Thus the denominator can be dropped.\n",
        "\n",
        "Denote $d=\\{x_1, x_2, ..., x_n\\}$ where $x_i$'s are words in the news *d* (sometimes called features). Unlike n-gram language modelling, we make the multinomial Naive Bayes independence assumption here, where we assume positions of words do not matter. Formally, \n",
        "\\begin{align*}\n",
        "&\\underset{c\\in \\{0,1\\}}{\\operatorname{argmax}} P(d|c)P(c)\\\\\n",
        "=&\\underset{c\\in \\{0,1\\}}{\\operatorname{argmax}} P(x_1, ..., x_n|c)P(c)\\\\\n",
        "=&\\underset{c\\in \\{0,1\\}}{\\operatorname{argmax}} P(x_1|c)P(x_2|c)...P(x_n|c)\n",
        "\\end{align*}\n",
        "\n",
        "Now we only need to collect the occurences of each word for the classification. This is often called a **bag of words** feature. \n",
        "\n",
        "For instance, in the sentence `All for one and one for all .`, the bag of words feature would be `{\"all\": 2, \"for\": 2, \"one\": 2, \"and\": 1, \".\": 1}`. Essentially, the bag of words feature is a dictionary which maps the word to its occurences. We can see that the order is not considered here.\n",
        "\n",
        "Now, your goal is to implement the Multinomial Naive Bayes. You can use existing codes or Python packages, and adapt them to our news classification task.\n",
        "\n",
        "You might find the following packages/functions useful:\n",
        "\n",
        "* nltk.word_tokenize(), nltk.word_tokenize()\n",
        "* nltk.classify.naivebayes()\n",
        "* sklearn.feature_extraction.text\n",
        "* sklearn.naive_bayes.MultinomialNB()"
      ]
    },
    {
      "cell_type": "markdown",
      "metadata": {
        "id": "ZtQpd3ciodGZ"
      },
      "source": [
        "**Please answer the following question(s).**\n",
        "\n",
        "**Q6: Comparing Multinomial Naive Bayes with the unigram language model, which one do you expect to perform better? Why?**\n",
        "\n",
        "I would expect Naive Bayes to perform better because it uses more information than the unigram model. The unigram model essentially only uses the likelihood of a document being generated by a class since it multiplies the word probabilities. Naive Bayes computes the likelihood and also takes into account the prior probability of each document, which can only strengthen it's performance."
      ]
    },
    {
      "cell_type": "markdown",
      "metadata": {
        "id": "ZaZTryrewV4I"
      },
      "source": [
        "## 6.1 Implementation"
      ]
    },
    {
      "cell_type": "code",
      "metadata": {
        "id": "BmaInFPSwY9G"
      },
      "source": [
        "real_word_counts = unigram_counts(processed_real_news_training)\n",
        "fake_word_counts = unigram_counts(processed_fake_news_training)\n",
        "\n",
        "# size of vocabulary across classes\n",
        "size = len(set(real_word_counts.keys()).union(set(fake_word_counts.keys())))\n",
        "\n",
        "# Returns the log likelihood of a document d being generated by the class c\n",
        "# Requres `text` is a list of tokens : str and `class_word_counts` is a \n",
        "#   dictionary that maps a token : str to its number of occurrences\n",
        "def log_likelihood(text, class_word_counts):\n",
        "  total = sum(class_word_counts.values())\n",
        "  log_sum = 0\n",
        "  for t in text:\n",
        "    log_sum += math.log((class_word_counts.get(t, 0) + 1) / (total + size))\n",
        "  return log_sum"
      ],
      "execution_count": 122,
      "outputs": []
    },
    {
      "cell_type": "code",
      "metadata": {
        "id": "ErmyEIYezeGR"
      },
      "source": [
        "split_real_news = real_news.split('\\n')\n",
        "split_fake_news = fake_news.split('\\n')\n",
        "\n",
        "# log prior probabilities of each class\n",
        "log_prior_real = math.log(len(split_real_news) / len(split_real_news + split_fake_news))\n",
        "log_prior_fake = math.log(len(split_fake_news) / len(split_real_news + split_fake_news))"
      ],
      "execution_count": 123,
      "outputs": []
    },
    {
      "cell_type": "code",
      "metadata": {
        "id": "TcjyPmjJzpB7"
      },
      "source": [
        "# Returns the naive bayes probability of `text` being real news\n",
        "def predict_real(text):\n",
        "  return log_prior_real + log_likelihood(text, real_word_counts)\n",
        "\n",
        "# Returns the naive bayes probability of `text` being fake news\n",
        "def predict_fake(text):\n",
        "  return log_prior_fake + log_likelihood(text, fake_word_counts)\n",
        "\n",
        "# Returns 0 if naive bayes predicts `text` is fake news, 1 if real news\n",
        "def nb_predict(text):\n",
        "  return 0 if predict_fake(text) > predict_real(text) else 1"
      ],
      "execution_count": 124,
      "outputs": []
    },
    {
      "cell_type": "markdown",
      "metadata": {
        "id": "NWurBZeiwZmT"
      },
      "source": [
        "## 6.2 Putting Everything Together and Submitting to Kaggle\n",
        "\n",
        "You should use your trained model to predict labels for all the news in `TestData.txt`. Output your predictions to a **csv** file and submit it to kaggle. The format should follow Part 6 as well.\n",
        "\n",
        "Use this Kaggle [link](https://www.kaggle.com/t/e8e4f7ee507843d1902c168529d705c8) to submit your output."
      ]
    },
    {
      "cell_type": "code",
      "metadata": {
        "id": "r3pTjTh6wjI-",
        "outputId": "8b0410d0-8f1a-4b2b-9416-2efed19f998f",
        "colab": {
          "base_uri": "https://localhost:8080/",
          "height": 34
        }
      },
      "source": [
        "with open(os.path.join(dataset_path, \"../kaggle_predictions.txt\"), mode='w') as f:\n",
        "  f.write('Id,Prediction\\n')\n",
        "\n",
        "  for id, text in enumerate(split_test_data):\n",
        "    tokenized_text = [list(map(str.lower, word_tokenize(sent))) for sent in sent_tokenize(text)]\n",
        "    processed_text = process_text(tokenized_text)\n",
        "    \n",
        "    prediction = nb_predict(processed_text)\n",
        "    f.write(f'{id},{prediction}\\n')\n",
        "\n",
        "    if id == 4488:\n",
        "      break\n",
        "\n",
        "print('DONE')"
      ],
      "execution_count": 125,
      "outputs": [
        {
          "output_type": "stream",
          "text": [
            "DONE\n"
          ],
          "name": "stdout"
        }
      ]
    },
    {
      "cell_type": "markdown",
      "metadata": {
        "id": "9MVtIIyEzSS2"
      },
      "source": [
        "# Work Distribution\n",
        "\n",
        "**Please briefly describe how you divided the work.**\n",
        "\n",
        "I worked alone.\n"
      ]
    },
    {
      "cell_type": "markdown",
      "metadata": {
        "id": "ddOznZ7P2nlI"
      },
      "source": [
        "# Project Feedback [1 point]\n",
        "It goes without saying that this is an unprecedented time. We on the course staff are trying our best to adapt our teaching, projects and everything else in the class to this new modality. We would immenselly appreciate it if you could provide us feedback (it's a super short form!!) on this project and **it's worth 1 point of your project grade**\n",
        "\n",
        "Link to the feedback form: https://forms.gle/xfonP9rJk9Uk7zaSA \n",
        "\n",
        "We will use this feedback to improve both **upcoming projects** and projects for next year. \n",
        "\n",
        "Thank you so much!"
      ]
    },
    {
      "cell_type": "markdown",
      "metadata": {
        "id": "fBrWSR2bs77m"
      },
      "source": [
        "# Submitting the Notebook\n",
        "\n",
        "1. Go to File (upper left corner) -> Download .ipynb -> submit this downloaded file to cms\n",
        "2. Run the first code block\n",
        "3. Replace our placeholder for your correct Google Drive directory structure in the 2nd code block below. Run the code block\n",
        "4. Put the name of this notebook into our placeholder in the 3rd code block. Run the code block\n",
        "5. Then go to the folder icon on the very left panel, under the orange CO logo. Click on the folder and wait for a PDF version of your notebook to appear. Might take a few minutes.\n",
        "6. Download the pdf version and submit to Gradescope"
      ]
    },
    {
      "cell_type": "code",
      "metadata": {
        "id": "8jg5v1sRzP5m"
      },
      "source": [
        "%%capture\n",
        "!apt-get install texlive texlive-xetex texlive-latex-extra pandoc\n",
        "!pip install pypandoc"
      ],
      "execution_count": 126,
      "outputs": []
    },
    {
      "cell_type": "code",
      "metadata": {
        "id": "_eOenvlzzRTh"
      },
      "source": [
        "%%capture\n",
        "# the red text is a placeholder! Change it to your directory structure!\n",
        "!cp 'drive/My Drive/Colab Notebooks/Project 1/4740_FA20_p1_tak62.ipynb' ./ "
      ],
      "execution_count": 129,
      "outputs": []
    },
    {
      "cell_type": "code",
      "metadata": {
        "id": "BOMiIp6Uzj1S",
        "outputId": "5f687883-8c60-4456-99f5-759aa1c5a1f9",
        "colab": {
          "base_uri": "https://localhost:8080/",
          "height": 177
        }
      },
      "source": [
        "# the red text is a placeholder! Change it to the name of this notebook!\n",
        "!jupyter nbconvert --to PDF \"4740_FA20_p1_tak62.ipynb\""
      ],
      "execution_count": 130,
      "outputs": [
        {
          "output_type": "stream",
          "text": [
            "[NbConvertApp] Converting notebook 4740_FA20_p1_tak62.ipynb to PDF\n",
            "[NbConvertApp] Writing 98461 bytes to ./notebook.tex\n",
            "[NbConvertApp] Building PDF\n",
            "[NbConvertApp] Running xelatex 3 times: [u'xelatex', u'./notebook.tex', '-quiet']\n",
            "[NbConvertApp] Running bibtex 1 time: [u'bibtex', u'./notebook']\n",
            "[NbConvertApp] WARNING | bibtex had problems, most likely because there were no citations\n",
            "[NbConvertApp] PDF successfully created\n",
            "[NbConvertApp] Writing 106861 bytes to 4740_FA20_p1_tak62.pdf\n"
          ],
          "name": "stdout"
        }
      ]
    },
    {
      "cell_type": "markdown",
      "metadata": {
        "id": "HvET3mDvxL2j"
      },
      "source": [
        "# You are done! ✅"
      ]
    }
  ]
}